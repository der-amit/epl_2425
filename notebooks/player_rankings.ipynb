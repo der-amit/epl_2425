{
 "cells": [
  {
   "cell_type": "code",
   "execution_count": 1,
   "metadata": {},
   "outputs": [],
   "source": [
    "import pandas as pd\n",
    "import numpy as np\n",
    "import seaborn as sns\n",
    "import matplotlib.pyplot as plt"
   ]
  },
  {
   "cell_type": "code",
   "execution_count": 2,
   "metadata": {},
   "outputs": [],
   "source": [
    "gca = pd.read_csv('/Users/amitmishra/epl_2425/data/player_gca_2025_cleaned.csv')"
   ]
  },
  {
   "cell_type": "code",
   "execution_count": 4,
   "metadata": {},
   "outputs": [],
   "source": [
    "gca = gca.drop(columns=['Age', 'Born', 'Nation', 'Matches'], axis = 1)"
   ]
  },
  {
   "cell_type": "code",
   "execution_count": 5,
   "metadata": {},
   "outputs": [
    {
     "data": {
      "text/plain": [
       "Index(['Player', 'Pos', 'Squad', '90s', 'SCA', 'SCA90', 'SCA_PassLive',\n",
       "       'SCA_PassDead', 'SCA_TO', 'SCA_Shot', 'SCA_Fld', 'SCA_DefAct', 'GCA',\n",
       "       'GCA90', 'GCA_PassLive', 'GCA_PassDead', 'GCA_TO', 'GCA_Shot',\n",
       "       'GCA_Fld', 'GCA_DefAct'],\n",
       "      dtype='object')"
      ]
     },
     "execution_count": 5,
     "metadata": {},
     "output_type": "execute_result"
    }
   ],
   "source": [
    "gca.columns"
   ]
  },
  {
   "cell_type": "code",
   "execution_count": 9,
   "metadata": {},
   "outputs": [],
   "source": [
    "gca['gcapasslive_rank'] = gca['GCA_PassLive'].rank(pct=True)*100"
   ]
  },
  {
   "cell_type": "code",
   "execution_count": 10,
   "metadata": {},
   "outputs": [],
   "source": [
    "cols = ['Player', 'Pos', 'Squad', 'gcapasslive_rank']"
   ]
  },
  {
   "cell_type": "code",
   "execution_count": 15,
   "metadata": {},
   "outputs": [
    {
     "data": {
      "text/html": [
       "<div>\n",
       "<style scoped>\n",
       "    .dataframe tbody tr th:only-of-type {\n",
       "        vertical-align: middle;\n",
       "    }\n",
       "\n",
       "    .dataframe tbody tr th {\n",
       "        vertical-align: top;\n",
       "    }\n",
       "\n",
       "    .dataframe thead th {\n",
       "        text-align: right;\n",
       "    }\n",
       "</style>\n",
       "<table border=\"1\" class=\"dataframe\">\n",
       "  <thead>\n",
       "    <tr style=\"text-align: right;\">\n",
       "      <th></th>\n",
       "      <th>Player</th>\n",
       "      <th>Pos</th>\n",
       "      <th>Squad</th>\n",
       "      <th>gcapasslive_rank</th>\n",
       "    </tr>\n",
       "  </thead>\n",
       "  <tbody>\n",
       "    <tr>\n",
       "      <th>1</th>\n",
       "      <td>Tyler Adams</td>\n",
       "      <td>MF</td>\n",
       "      <td>Bournemouth</td>\n",
       "      <td>73.949580</td>\n",
       "    </tr>\n",
       "    <tr>\n",
       "      <th>5</th>\n",
       "      <td>Asher Agbinone</td>\n",
       "      <td>MF</td>\n",
       "      <td>Crystal Palace</td>\n",
       "      <td>19.327731</td>\n",
       "    </tr>\n",
       "    <tr>\n",
       "      <th>11</th>\n",
       "      <td>Carlos Alcaraz</td>\n",
       "      <td>MF</td>\n",
       "      <td>Southampton</td>\n",
       "      <td>19.327731</td>\n",
       "    </tr>\n",
       "    <tr>\n",
       "      <th>17</th>\n",
       "      <td>Edson Álvarez</td>\n",
       "      <td>MF</td>\n",
       "      <td>West Ham</td>\n",
       "      <td>64.453782</td>\n",
       "    </tr>\n",
       "    <tr>\n",
       "      <th>21</th>\n",
       "      <td>Mathis Amougou</td>\n",
       "      <td>MF</td>\n",
       "      <td>Chelsea</td>\n",
       "      <td>19.327731</td>\n",
       "    </tr>\n",
       "    <tr>\n",
       "      <th>...</th>\n",
       "      <td>...</td>\n",
       "      <td>...</td>\n",
       "      <td>...</td>\n",
       "      <td>...</td>\n",
       "    </tr>\n",
       "    <tr>\n",
       "      <th>573</th>\n",
       "      <td>Adam Wharton</td>\n",
       "      <td>MF</td>\n",
       "      <td>Crystal Palace</td>\n",
       "      <td>80.924370</td>\n",
       "    </tr>\n",
       "    <tr>\n",
       "      <th>581</th>\n",
       "      <td>Harry Winks</td>\n",
       "      <td>MF</td>\n",
       "      <td>Leicester City</td>\n",
       "      <td>64.453782</td>\n",
       "    </tr>\n",
       "    <tr>\n",
       "      <th>587</th>\n",
       "      <td>Yehor Yarmoliuk</td>\n",
       "      <td>MF</td>\n",
       "      <td>Brentford</td>\n",
       "      <td>64.453782</td>\n",
       "    </tr>\n",
       "    <tr>\n",
       "      <th>588</th>\n",
       "      <td>Ryan Yates</td>\n",
       "      <td>MF</td>\n",
       "      <td>Nott'ham Forest</td>\n",
       "      <td>64.453782</td>\n",
       "    </tr>\n",
       "    <tr>\n",
       "      <th>594</th>\n",
       "      <td>Martin Ødegaard</td>\n",
       "      <td>MF</td>\n",
       "      <td>Arsenal</td>\n",
       "      <td>58.235294</td>\n",
       "    </tr>\n",
       "  </tbody>\n",
       "</table>\n",
       "<p>112 rows × 4 columns</p>\n",
       "</div>"
      ],
      "text/plain": [
       "              Player Pos            Squad  gcapasslive_rank\n",
       "1        Tyler Adams  MF      Bournemouth         73.949580\n",
       "5     Asher Agbinone  MF   Crystal Palace         19.327731\n",
       "11    Carlos Alcaraz  MF      Southampton         19.327731\n",
       "17     Edson Álvarez  MF         West Ham         64.453782\n",
       "21    Mathis Amougou  MF          Chelsea         19.327731\n",
       "..               ...  ..              ...               ...\n",
       "573     Adam Wharton  MF   Crystal Palace         80.924370\n",
       "581      Harry Winks  MF   Leicester City         64.453782\n",
       "587  Yehor Yarmoliuk  MF        Brentford         64.453782\n",
       "588       Ryan Yates  MF  Nott'ham Forest         64.453782\n",
       "594  Martin Ødegaard  MF          Arsenal         58.235294\n",
       "\n",
       "[112 rows x 4 columns]"
      ]
     },
     "execution_count": 15,
     "metadata": {},
     "output_type": "execute_result"
    }
   ],
   "source": [
    "gca[gca['Pos'] == 'MF'][cols]"
   ]
  },
  {
   "cell_type": "code",
   "execution_count": 43,
   "metadata": {},
   "outputs": [
    {
     "data": {
      "text/html": [
       "<div>\n",
       "<style scoped>\n",
       "    .dataframe tbody tr th:only-of-type {\n",
       "        vertical-align: middle;\n",
       "    }\n",
       "\n",
       "    .dataframe tbody tr th {\n",
       "        vertical-align: top;\n",
       "    }\n",
       "\n",
       "    .dataframe thead th {\n",
       "        text-align: right;\n",
       "    }\n",
       "</style>\n",
       "<table border=\"1\" class=\"dataframe\">\n",
       "  <thead>\n",
       "    <tr style=\"text-align: right;\">\n",
       "      <th></th>\n",
       "      <th>Player</th>\n",
       "      <th>Pos</th>\n",
       "      <th>Squad</th>\n",
       "      <th>gcapasslive_rank</th>\n",
       "    </tr>\n",
       "  </thead>\n",
       "  <tbody>\n",
       "    <tr>\n",
       "      <th>473</th>\n",
       "      <td>Ismaila Sarr</td>\n",
       "      <td>MF</td>\n",
       "      <td>Crystal Palace</td>\n",
       "      <td>95.462185</td>\n",
       "    </tr>\n",
       "    <tr>\n",
       "      <th>528</th>\n",
       "      <td>Youri Tielemans</td>\n",
       "      <td>MF</td>\n",
       "      <td>Aston Villa</td>\n",
       "      <td>95.462185</td>\n",
       "    </tr>\n",
       "    <tr>\n",
       "      <th>101</th>\n",
       "      <td>Ryan Christie</td>\n",
       "      <td>MF</td>\n",
       "      <td>Bournemouth</td>\n",
       "      <td>93.781513</td>\n",
       "    </tr>\n",
       "    <tr>\n",
       "      <th>534</th>\n",
       "      <td>Sandro Tonali</td>\n",
       "      <td>MF</td>\n",
       "      <td>Newcastle Utd</td>\n",
       "      <td>93.781513</td>\n",
       "    </tr>\n",
       "    <tr>\n",
       "      <th>217</th>\n",
       "      <td>Ryan Gravenberch</td>\n",
       "      <td>MF</td>\n",
       "      <td>Liverpool</td>\n",
       "      <td>89.663866</td>\n",
       "    </tr>\n",
       "    <tr>\n",
       "      <th>302</th>\n",
       "      <td>Mateo Kovačić</td>\n",
       "      <td>MF</td>\n",
       "      <td>Manchester City</td>\n",
       "      <td>89.663866</td>\n",
       "    </tr>\n",
       "    <tr>\n",
       "      <th>451</th>\n",
       "      <td>Declan Rice</td>\n",
       "      <td>MF</td>\n",
       "      <td>Arsenal</td>\n",
       "      <td>89.663866</td>\n",
       "    </tr>\n",
       "    <tr>\n",
       "      <th>172</th>\n",
       "      <td>Christian Eriksen</td>\n",
       "      <td>MF</td>\n",
       "      <td>Manchester Utd</td>\n",
       "      <td>86.050420</td>\n",
       "    </tr>\n",
       "    <tr>\n",
       "      <th>347</th>\n",
       "      <td>Pape Matar Sarr</td>\n",
       "      <td>MF</td>\n",
       "      <td>Tottenham</td>\n",
       "      <td>86.050420</td>\n",
       "    </tr>\n",
       "  </tbody>\n",
       "</table>\n",
       "</div>"
      ],
      "text/plain": [
       "                Player Pos            Squad  gcapasslive_rank\n",
       "473       Ismaila Sarr  MF   Crystal Palace         95.462185\n",
       "528    Youri Tielemans  MF      Aston Villa         95.462185\n",
       "101      Ryan Christie  MF      Bournemouth         93.781513\n",
       "534      Sandro Tonali  MF    Newcastle Utd         93.781513\n",
       "217   Ryan Gravenberch  MF        Liverpool         89.663866\n",
       "302      Mateo Kovačić  MF  Manchester City         89.663866\n",
       "451        Declan Rice  MF          Arsenal         89.663866\n",
       "172  Christian Eriksen  MF   Manchester Utd         86.050420\n",
       "347    Pape Matar Sarr  MF        Tottenham         86.050420"
      ]
     },
     "execution_count": 43,
     "metadata": {},
     "output_type": "execute_result"
    }
   ],
   "source": [
    "gca[(gca['Pos'] == 'MF') & (gca['gcapasslive_rank'] > 85)][cols].sort_values(by='gcapasslive_rank', ascending  = False)"
   ]
  },
  {
   "cell_type": "code",
   "execution_count": null,
   "metadata": {},
   "outputs": [],
   "source": []
  }
 ],
 "metadata": {
  "kernelspec": {
   "display_name": "Python 3",
   "language": "python",
   "name": "python3"
  },
  "language_info": {
   "codemirror_mode": {
    "name": "ipython",
    "version": 3
   },
   "file_extension": ".py",
   "mimetype": "text/x-python",
   "name": "python",
   "nbconvert_exporter": "python",
   "pygments_lexer": "ipython3",
   "version": "3.12.6"
  },
  "orig_nbformat": 4
 },
 "nbformat": 4,
 "nbformat_minor": 2
}
